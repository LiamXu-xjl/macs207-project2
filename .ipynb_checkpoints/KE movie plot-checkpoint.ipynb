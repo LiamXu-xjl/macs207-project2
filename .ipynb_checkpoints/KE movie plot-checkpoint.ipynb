{
 "cells": [
  {
   "cell_type": "code",
   "execution_count": 3,
   "metadata": {},
   "outputs": [
    {
     "ename": "ModuleNotFoundError",
     "evalue": "No module named 'wikipedia'",
     "output_type": "error",
     "traceback": [
      "\u001b[1;31m---------------------------------------------------------------------------\u001b[0m",
      "\u001b[1;31mModuleNotFoundError\u001b[0m                       Traceback (most recent call last)",
      "\u001b[1;32m<ipython-input-3-2e95d85219f5>\u001b[0m in \u001b[0;36m<module>\u001b[1;34m\u001b[0m\n\u001b[0;32m     10\u001b[0m \u001b[1;32mfrom\u001b[0m \u001b[0mPIL\u001b[0m \u001b[1;32mimport\u001b[0m \u001b[0mImage\u001b[0m\u001b[1;33m\u001b[0m\u001b[1;33m\u001b[0m\u001b[0m\n\u001b[0;32m     11\u001b[0m \u001b[1;32mimport\u001b[0m \u001b[0mjson\u001b[0m\u001b[1;33m\u001b[0m\u001b[1;33m\u001b[0m\u001b[0m\n\u001b[1;32m---> 12\u001b[1;33m \u001b[1;32mimport\u001b[0m \u001b[0mwikipedia\u001b[0m\u001b[1;33m\u001b[0m\u001b[1;33m\u001b[0m\u001b[0m\n\u001b[0m",
      "\u001b[1;31mModuleNotFoundError\u001b[0m: No module named 'wikipedia'"
     ]
    }
   ],
   "source": [
    "from nltk.stem import WordNetLemmatizer\n",
    "from sentence_transformers import SentenceTransformer\n",
    "from sklearn.metrics.pairwise import cosine_similarity\n",
    "import numpy as np\n",
    "from typing import List, Tuple\n",
    "from collections import Counter, defaultdict\n",
    "from nltk import pos_tag, word_tokenize\n",
    "from wordcloud import WordCloud, STOPWORDS, ImageColorGenerator\n",
    "import matplotlib.pyplot as plt\n",
    "from PIL import Image\n",
    "import json\n",
    "import wikipedia"
   ]
  },
  {
   "cell_type": "code",
   "execution_count": null,
   "metadata": {},
   "outputs": [],
   "source": [
    "# POS that should not be included \n",
    "[x[1] for x in pos_tag([',','.','you','not','how','what','all','and','did','your','can','nor','am','did','your'])]"
   ]
  },
  {
   "cell_type": "code",
   "execution_count": null,
   "metadata": {},
   "outputs": [],
   "source": [
    "def _mmr(doc_embedding: np.ndarray,\n",
    "        word_embeddings: np.ndarray,\n",
    "        words: List[str],\n",
    "        top_n: int = 5,\n",
    "        diversity: float = 0.8) -> List[Tuple[str, float]]:\n",
    "\n",
    "    # Extract similarity within words, and between words and the document\n",
    "    word_doc_similarity = cosine_similarity(word_embeddings, doc_embedding)\n",
    "    word_similarity = cosine_similarity(word_embeddings)\n",
    "\n",
    "    # Initialize candidates and already choose best keyword/keyphras\n",
    "    keywords_idx = [np.argmax(word_doc_similarity)]\n",
    "    candidates_idx = [i for i in range(len(words)) if i != keywords_idx[0]]\n",
    "\n",
    "    for _ in range(top_n - 1):\n",
    "        # Extract similarities within candidates and\n",
    "        # between candidates and selected keywords/phrases\n",
    "        candidate_similarities = word_doc_similarity[candidates_idx, :]\n",
    "        target_similarities = np.max(word_similarity[candidates_idx][:, keywords_idx], axis=1)\n",
    "\n",
    "        # Calculate MMR\n",
    "        mmr = (1-diversity) * candidate_similarities - diversity * target_similarities.reshape(-1, 1)\n",
    "        mmr_idx = candidates_idx[np.argmax(mmr)]\n",
    "\n",
    "        # Update keywords & candidates\n",
    "        keywords_idx.append(mmr_idx)\n",
    "        candidates_idx.remove(mmr_idx)\n",
    "\n",
    "    return [(words[idx], round(float(word_doc_similarity.reshape(1, -1)[0][idx]), 4)) for idx in keywords_idx]\n",
    "\n",
    "\n",
    "def scatter_keywords(model, keywords, document, diversity, top_ratio):\n",
    "    document_embedding = model.encode(document).reshape(1,-1)\n",
    "    keyword_embeddings = model.encode(keywords)\n",
    "#     print(len(keywords))\n",
    "    if len(keywords) == 1:\n",
    "        keyword_embeddings = keyword_embeddings.reshape(1,-1)\n",
    "    \n",
    "    top_n = len(keywords)\n",
    "    scattered_keyword_value_pair = _mmr(document_embedding, keyword_embeddings, keywords, top_n, diversity)\n",
    "    scattered_keywords = [x[0] for x in scattered_keyword_value_pair]\n",
    "    return scattered_keyword_value_pair\n",
    "\n",
    "\n",
    "def extract_keywords(model, ablist, keyword_ratio=1, diversity=0.9):\n",
    "    count = 0\n",
    "    NPOS = [',', '.', 'PRP', 'RB', 'WRB', 'WP', 'DT', 'your', 'can', 'nor', 'am', 'did', 'PRP$', 'CC']\n",
    "    lemmatizer = WordNetLemmatizer()\n",
    "    final_cnt = Counter({})\n",
    "    for ab in ablist:\n",
    "        tokenized_text_with_punc = word_tokenize(ab.lower())\n",
    "        tagged_text = pos_tag(tokenized_text_with_punc)\n",
    "\n",
    "        candidate_phrases = [x[0] for x in tagged_text if (x[1] not in NPOS)]\n",
    "        # scatter the keywords, assign scores to these keywords by scaling the document\n",
    "        scattered_keyword_value_pair = scatter_keywords(model, candidate_phrases, ab, diversity=diversity, top_ratio=keyword_ratio)\n",
    "        current_keyword_score_dict_scaled = defaultdict(lambda:0,{})\n",
    "        for k, v in scattered_keyword_value_pair:\n",
    "            k_lem = lemmatizer.lemmatize(k)\n",
    "            current_keyword_score_dict_scaled[k_lem] += v\n",
    "        current_keyword_score_dict_scaled = dict(current_keyword_score_dict_scaled)\n",
    "        current_cnt = Counter(current_keyword_score_dict_scaled)\n",
    "        final_cnt = final_cnt + current_cnt\n",
    "\n",
    "    unprocessed_keyword_score_dict = dict(final_cnt)\n",
    "    return unprocessed_keyword_score_dict"
   ]
  },
  {
   "cell_type": "code",
   "execution_count": null,
   "metadata": {},
   "outputs": [],
   "source": [
    "def create_wordcloud(plot):\n",
    "    model = SentenceTransformer('distilbert-base-nli-mean-tokens')\n",
    "    ks_dict = extract_keywords(model, plot)\n",
    "    \n",
    "    mask = np.array(Image.open(\"mask1.jpg\"))\n",
    "    shakespeare = ImageColorGenerator(mask,default_color=(0,0,0))    \n",
    "    \n",
    "    wordcloud = WordCloud(width=900,height=500, max_words=10000, mask=mask, relative_scaling=0.3,normalize_plurals=False).generate_from_frequencies(ks_dict)\n",
    "    wordcloud = wordcloud.recolor(color_func=shakespeare, random_state=3)\n",
    "    wc_array = wordcloud.to_array()\n",
    "    plt.figure(figsize = (8,8), facecolor = None)\n",
    "    plt.imshow(wordcloud)\n",
    "    plt.axis(\"off\")\n",
    "    plt.tight_layout(pad = 0)\n",
    "    plt.show()\n",
    "    return ks_dict, wc_array\n"
   ]
  },
  {
   "cell_type": "code",
   "execution_count": null,
   "metadata": {},
   "outputs": [],
   "source": [
    "def interpret_dict(d):\n",
    "    lis = list(zip(list(d.keys()),list(d.values())))\n",
    "    lis = sorted(lis,key=lambda x:x[1],reverse=True)\n",
    "    return lis"
   ]
  },
  {
   "cell_type": "code",
   "execution_count": null,
   "metadata": {},
   "outputs": [],
   "source": [
    "with open('./resources/movie_ids.json', 'r') as f:\n",
    "    id_lis = json.loads(f.read())   \n",
    "with open('./resources/movie_names.json', 'r') as f:\n",
    "    name_lis = json.loads(f.read())   "
   ]
  },
  {
   "cell_type": "code",
   "execution_count": null,
   "metadata": {},
   "outputs": [],
   "source": [
    "plots = []\n",
    "for pageid in id_lis:\n",
    "    pg = wikipedia.page(pageid=pageid)\n",
    "    if pg.section('Plot') != '':\n",
    "        plots.append(pg.section('Plot'))"
   ]
  },
  {
   "cell_type": "code",
   "execution_count": null,
   "metadata": {},
   "outputs": [],
   "source": [
    "d, wc = create_wordcloud(plots)"
   ]
  },
  {
   "cell_type": "code",
   "execution_count": null,
   "metadata": {},
   "outputs": [],
   "source": [
    "for idx, plot in enumerate(plots):\n",
    "    print(name_lis[idx])\n",
    "    create_wordcloud([plot])"
   ]
  },
  {
   "cell_type": "code",
   "execution_count": null,
   "metadata": {},
   "outputs": [],
   "source": []
  },
  {
   "cell_type": "code",
   "execution_count": null,
   "metadata": {},
   "outputs": [],
   "source": []
  }
 ],
 "metadata": {
  "kernelspec": {
   "display_name": "Python 3",
   "language": "python",
   "name": "python3"
  },
  "language_info": {
   "codemirror_mode": {
    "name": "ipython",
    "version": 3
   },
   "file_extension": ".py",
   "mimetype": "text/x-python",
   "name": "python",
   "nbconvert_exporter": "python",
   "pygments_lexer": "ipython3",
   "version": "3.8.5"
  }
 },
 "nbformat": 4,
 "nbformat_minor": 4
}
